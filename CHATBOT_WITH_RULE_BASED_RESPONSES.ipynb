{
  "nbformat": 4,
  "nbformat_minor": 0,
  "metadata": {
    "colab": {
      "provenance": [],
      "authorship_tag": "ABX9TyOrNRGQogfl09idZf1C0mdc",
      "include_colab_link": true
    },
    "kernelspec": {
      "name": "python3",
      "display_name": "Python 3"
    },
    "language_info": {
      "name": "python"
    }
  },
  "cells": [
    {
      "cell_type": "markdown",
      "metadata": {
        "id": "view-in-github",
        "colab_type": "text"
      },
      "source": [
        "<a href=\"https://colab.research.google.com/github/21JN1A4528/CODSOFT/blob/main/CHATBOT_WITH_RULE_BASED_RESPONSES.ipynb\" target=\"_parent\"><img src=\"https://colab.research.google.com/assets/colab-badge.svg\" alt=\"Open In Colab\"/></a>"
      ]
    },
    {
      "cell_type": "code",
      "execution_count": 1,
      "metadata": {
        "id": "zRtXogcbNiqI",
        "colab": {
          "base_uri": "https://localhost:8080/"
        },
        "outputId": "c25d895a-f0b9-4a71-f6a4-2ea6181bc9fc"
      },
      "outputs": [
        {
          "output_type": "stream",
          "name": "stdout",
          "text": [
            "Hello! I'm a simple chatbot. Type 'goodbye' to exit.\n",
            "You: hello\n",
            "Chatbot: Hey!\n",
            "You: how are you?\n",
            "Chatbot: I'm just a chatbot.\n",
            "You: goodbye\n",
            "Chatbot: Goodbye!\n"
          ]
        }
      ],
      "source": [
        "import random\n",
        "\n",
        "# Define some predefined user queries and responses\n",
        "responses = {\n",
        "    \"hello\": [\"Hello!\", \"Hi there!\", \"Hey!\"],\n",
        "    \"how are you\": [\"I'm just a chatbot.\", \"I don't have feelings, but I'm here to help!\"],\n",
        "    \"goodbye\": [\"Goodbye!\", \"See you later!\", \"Have a great day!\"],\n",
        "}\n",
        "\n",
        "# Function to generate a response\n",
        "def get_response(user_input):\n",
        "    user_input = user_input.lower()\n",
        "\n",
        "    # Check if user input matches any predefined query\n",
        "    for key in responses:\n",
        "        if key in user_input:\n",
        "            return random.choice(responses[key])\n",
        "\n",
        "    # If no match is found, provide a default response\n",
        "    return \"I'm sorry, I don't understand that.\"\n",
        "\n",
        "# Main interaction loop\n",
        "print(\"Hello! I'm a simple chatbot. Type 'goodbye' to exit.\")\n",
        "while True:\n",
        "    user_input = input(\"You: \")\n",
        "    if user_input.lower() == \"goodbye\":\n",
        "        print(\"Chatbot: Goodbye!\")\n",
        "        break\n",
        "    response = get_response(user_input)\n",
        "    print(\"Chatbot:\", response)\n"
      ]
    }
  ]
}